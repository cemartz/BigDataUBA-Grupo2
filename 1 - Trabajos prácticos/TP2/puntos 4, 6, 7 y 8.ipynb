{
 "cells": [
  {
   "cell_type": "code",
   "execution_count": null,
   "id": "d67a34de-5aa8-4459-9e2f-f7cbd650cb15",
   "metadata": {},
   "outputs": [],
   "source": [
    "4.\n",
    "\n",
    "# Importamos las librerías que vamos a usar\n",
    "import pandas as pd\n",
    "import seaborn as sns\n",
    "import matplotlib.pyplot as plt\n",
    "\n",
    "# Leemos el archivo de Excel con la base unida\n",
    "df = pd.read_excel(\"df_base_GBA_unida.xlsx\") ### Acá tenés que cambiarlo por tu archivo de la base unida de 2004 y 2024\n",
    "\n",
    "# Seleccionamos las variables pedidas en la consigna para la matriz de correlación\n",
    "variables = ['CH04', 'CH06', 'CH07', 'CH08', 'NIVEL_ED', 'ESTADO', 'CAT_INAC', 'IPCF', 'ANO4'] ### Acá hay que tener cuidado con \"ANO4\", tiene que existir\n",
    "df_filtered = df[variables].copy()\n",
    "\n",
    "# Filtramos los datos por año y eliminamos la columna del año\n",
    "df_2004 = df_filtered[df_filtered['ANO4'] == 2004].drop(columns='ANO4') ### Acá también te puede salir error, tendríamos que revisar las columnas\n",
    "df_2024 = df_filtered[df_filtered['ANO4'] == 2024].drop(columns='ANO4') ### Acá también te puede salir error, tendríamos que revisar las columnas\n",
    "\n",
    "# Calculamos las matrices de correlación para cada año\n",
    "corr_2004 = df_2004.corr()\n",
    "corr_2024 = df_2024.corr()\n",
    " \n",
    "# Graficamos la matriz de correlación para 2004\n",
    "plt.figure(figsize=(12, 10)) ### Le podés bajar o subir el size si querés\n",
    "sns.heatmap(corr_2004, annot=True, cmap='coolwarm', center=0, fmt=\".2f\")\n",
    "plt.title(\"Matriz de correlación del año 2004\", fontsize=12) ### Le podés bajar o subir el size si querés\n",
    "plt.xticks(rotation=45, ha='right')\n",
    "plt.yticks(rotation=0)\n",
    "plt.tight_layout()\n",
    "plt.show()\n",
    "\n",
    "# Graficamos la matriz de correlación para 2024\n",
    "plt.figure(figsize=(12, 10)) ### Le podés bajar o subir el size si querés\n",
    "sns.heatmap(corr_2024, annot=True, cmap='coolwarm', center=0, fmt=\".2f\")\n",
    "plt.title(\"Matriz de correlación del año 2024\", fontsize=12) ### Le podés bajar o subir el size si querés\n",
    "plt.xticks(rotation=45, ha='right')\n",
    "plt.yticks(rotation=0)\n",
    "plt.tight_layout()\n",
    "plt.show()"
   ]
  },
  {
   "cell_type": "code",
   "execution_count": 3,
   "id": "f2034152-b2e7-44ce-a7b6-3cf9cf6bc116",
   "metadata": {},
   "outputs": [
    {
     "ename": "NameError",
     "evalue": "name 'df_2004' is not defined",
     "output_type": "error",
     "traceback": [
      "\u001b[1;31m---------------------------------------------------------------------------\u001b[0m",
      "\u001b[1;31mNameError\u001b[0m                                 Traceback (most recent call last)",
      "Cell \u001b[1;32mIn[3], line 7\u001b[0m\n\u001b[0;32m      4\u001b[0m \u001b[38;5;28;01mimport\u001b[39;00m \u001b[38;5;21;01mpandas\u001b[39;00m \u001b[38;5;28;01mas\u001b[39;00m \u001b[38;5;21;01mpd\u001b[39;00m\n\u001b[0;32m      6\u001b[0m \u001b[38;5;66;03m# Unimos las bases de los dos años en un solo DataFrame\u001b[39;00m\n\u001b[1;32m----> 7\u001b[0m df_completo \u001b[38;5;241m=\u001b[39m pd\u001b[38;5;241m.\u001b[39mconcat([df_2004, df_2024], ignore_index\u001b[38;5;241m=\u001b[39m\u001b[38;5;28;01mTrue\u001b[39;00m) \u001b[38;5;66;03m### Acá puede que te pueda salir error, no debería porque es la misma definición que venimos usando\u001b[39;00m\n\u001b[0;32m      9\u001b[0m \u001b[38;5;66;03m# Separamos según si respondieron o no su condición de actividad\u001b[39;00m\n\u001b[0;32m     10\u001b[0m respondieron \u001b[38;5;241m=\u001b[39m df_completo[df_completo[\u001b[38;5;124m'\u001b[39m\u001b[38;5;124mESTADO\u001b[39m\u001b[38;5;124m'\u001b[39m] \u001b[38;5;241m!=\u001b[39m \u001b[38;5;241m0\u001b[39m]\u001b[38;5;241m.\u001b[39mcopy()\n",
      "\u001b[1;31mNameError\u001b[0m: name 'df_2004' is not defined"
     ]
    }
   ],
   "source": [
    "6. \n",
    "\n",
    "# Importamos las librerías que vamos a usar\n",
    "import pandas as pd\n",
    "\n",
    "# Unimos las bases de los dos años en un solo DataFrame\n",
    "df_completo = pd.concat([df_2004, df_2024], ignore_index=True) ### Acá puede que te pueda salir error, no debería porque es la misma base/definición que venimos usando\n",
    "\n",
    "# Separamos según si respondieron o no su condición de actividad\n",
    "respondieron = df_completo[df_completo['ESTADO'] != 0].copy() ### Acá puede que te pueda salir error, no debería porque es la misma base/definición que venimos usando\n",
    "norespondieron = df_completo[df_completo['ESTADO'] == 0].copy() ### Acá puede que te pueda salir error, no debería porque es la misma base/definición que venimos usando\n",
    "\n",
    "# Mostramos cuántas personas no respondieron\n",
    "print(f\"Cantidad de personas que no respondieron ESTADO: {norespondieron.shape[0]}\")"
   ]
  },
  {
   "cell_type": "code",
   "execution_count": 5,
   "id": "084bbdea-c937-408a-9a73-5363337ae1a8",
   "metadata": {},
   "outputs": [
    {
     "ename": "NameError",
     "evalue": "name 'df_2004' is not defined",
     "output_type": "error",
     "traceback": [
      "\u001b[1;31m---------------------------------------------------------------------------\u001b[0m",
      "\u001b[1;31mNameError\u001b[0m                                 Traceback (most recent call last)",
      "Cell \u001b[1;32mIn[5], line 9\u001b[0m\n\u001b[0;32m      6\u001b[0m \u001b[38;5;28;01mimport\u001b[39;00m \u001b[38;5;21;01mseaborn\u001b[39;00m \u001b[38;5;28;01mas\u001b[39;00m \u001b[38;5;21;01msns\u001b[39;00m\n\u001b[0;32m      8\u001b[0m \u001b[38;5;66;03m# Asignamos el año a cada base\u001b[39;00m\n\u001b[1;32m----> 9\u001b[0m df_2004[\u001b[38;5;124m'\u001b[39m\u001b[38;5;124mAÑO\u001b[39m\u001b[38;5;124m'\u001b[39m] \u001b[38;5;241m=\u001b[39m \u001b[38;5;241m2004\u001b[39m \u001b[38;5;66;03m### Acá puede que te pueda salir error, no debería porque es la misma base/definición que venimos usando\u001b[39;00m\n\u001b[0;32m     10\u001b[0m df_2024[\u001b[38;5;124m'\u001b[39m\u001b[38;5;124mAÑO\u001b[39m\u001b[38;5;124m'\u001b[39m] \u001b[38;5;241m=\u001b[39m \u001b[38;5;241m2024\u001b[39m \u001b[38;5;66;03m### \"\"\u001b[39;00m\n\u001b[0;32m     12\u001b[0m \u001b[38;5;66;03m# Unimos las dos bases\u001b[39;00m\n",
      "\u001b[1;31mNameError\u001b[0m: name 'df_2004' is not defined"
     ]
    }
   ],
   "source": [
    "7.\n",
    "\n",
    "# Importamos las librerías que vamos a usar\n",
    "import pandas as pd\n",
    "import matplotlib.pyplot as plt\n",
    "import seaborn as sns\n",
    "\n",
    "# Asignamos el año a cada base\n",
    "df_2004['AÑO'] = 2004 ### Acá puede que te pueda salir error, no debería porque es la misma base/definición que venimos usando\n",
    "df_2024['AÑO'] = 2024 ### Acá puede que te pueda salir error, no debería porque es la misma base/definición que venimos usando\n",
    "\n",
    "# Unimos las dos bases\n",
    "df_completo = pd.concat([df_2004, df_2024], ignore_index=True) ### Acá puede que te pueda salir error, no debería porque es la misma base/definición que venimos usando\n",
    "\n",
    "# Filtramos quienes respondieron la variable ESTADO\n",
    "respondieron = df_completo[df_completo['ESTADO'] != 0].copy() ### Acá puede que te pueda salir error, no debería porque es la misma base/definición que venimos usando\n",
    "\n",
    "# Creamos la variable PEA, 1 si está ocupado o desocupado, 0 si es inactivo\n",
    "respondieron['PEA'] = respondieron['ESTADO'].apply(lambda x: 1 if x in [1, 2] else 0)\n",
    "\n",
    "# Contamos cantidad de personas por año y por PEA\n",
    "conteo_pea = respondieron.groupby(['AÑO', 'PEA']).size().reset_index(name='cantidad')\n",
    "\n",
    "# Gráfico \n",
    "plt.figure(figsize=(12, 10)) ### Le podés bajar o subir el size si querés\n",
    "sns.barplot(data=conteo_pea, x='AÑO', y='cantidad', hue='PEA', palette='Set2')\n",
    "plt.title('Composición de la Población Económicamente Activa')\n",
    "plt.xlabel('Año')\n",
    "plt.ylabel('Cantidad de personas')\n",
    "plt.legend(title='PEA', labels=['No PEA (0)', 'PEA (1)'])\n",
    "plt.tight_layout()\n",
    "plt.show()"
   ]
  },
  {
   "cell_type": "code",
   "execution_count": 7,
   "id": "6b407251-def7-4c84-a921-b8746ce9e06f",
   "metadata": {},
   "outputs": [
    {
     "ename": "NameError",
     "evalue": "name 'respondieron' is not defined",
     "output_type": "error",
     "traceback": [
      "\u001b[1;31m---------------------------------------------------------------------------\u001b[0m",
      "\u001b[1;31mNameError\u001b[0m                                 Traceback (most recent call last)",
      "Cell \u001b[1;32mIn[7], line 9\u001b[0m\n\u001b[0;32m      6\u001b[0m \u001b[38;5;28;01mimport\u001b[39;00m \u001b[38;5;21;01mseaborn\u001b[39;00m \u001b[38;5;28;01mas\u001b[39;00m \u001b[38;5;21;01msns\u001b[39;00m\n\u001b[0;32m      8\u001b[0m \u001b[38;5;66;03m# Creamos la variable PET 1 si edad entre 15 y 65, 0 en otro caso\u001b[39;00m\n\u001b[1;32m----> 9\u001b[0m respondieron[\u001b[38;5;124m'\u001b[39m\u001b[38;5;124mPET\u001b[39m\u001b[38;5;124m'\u001b[39m] \u001b[38;5;241m=\u001b[39m respondieron[\u001b[38;5;124m'\u001b[39m\u001b[38;5;124mCH06\u001b[39m\u001b[38;5;124m'\u001b[39m]\u001b[38;5;241m.\u001b[39mapply(\u001b[38;5;28;01mlambda\u001b[39;00m x: \u001b[38;5;241m1\u001b[39m \u001b[38;5;28;01mif\u001b[39;00m \u001b[38;5;241m15\u001b[39m \u001b[38;5;241m<\u001b[39m\u001b[38;5;241m=\u001b[39m x \u001b[38;5;241m<\u001b[39m\u001b[38;5;241m=\u001b[39m \u001b[38;5;241m65\u001b[39m \u001b[38;5;28;01melse\u001b[39;00m \u001b[38;5;241m0\u001b[39m)\n\u001b[0;32m     11\u001b[0m \u001b[38;5;66;03m# Agrupamos por año y PET para contar\u001b[39;00m\n\u001b[0;32m     12\u001b[0m conteo_pet \u001b[38;5;241m=\u001b[39m respondieron\u001b[38;5;241m.\u001b[39mgroupby([\u001b[38;5;124m'\u001b[39m\u001b[38;5;124mAÑO\u001b[39m\u001b[38;5;124m'\u001b[39m, \u001b[38;5;124m'\u001b[39m\u001b[38;5;124mPET\u001b[39m\u001b[38;5;124m'\u001b[39m])\u001b[38;5;241m.\u001b[39msize()\u001b[38;5;241m.\u001b[39mreset_index(name\u001b[38;5;241m=\u001b[39m\u001b[38;5;124m'\u001b[39m\u001b[38;5;124mcantidad\u001b[39m\u001b[38;5;124m'\u001b[39m)\n",
      "\u001b[1;31mNameError\u001b[0m: name 'respondieron' is not defined"
     ]
    }
   ],
   "source": [
    "8.\n",
    "\n",
    "# Importamos las librerías que vamos a usar\n",
    "import pandas as pd\n",
    "import matplotlib.pyplot as plt\n",
    "import seaborn as sns\n",
    "\n",
    "# Creamos la variable PET 1 si edad entre 15 y 65, 0 en otro caso\n",
    "respondieron['PET'] = respondieron['CH06'].apply(lambda x: 1 if 15 <= x <= 65 else 0) ### Acá puede que te pueda salir error, no debería porque es la misma base/definición que venimos usando\n",
    "\n",
    "\n",
    "# Agrupamos por año y PET para contar\n",
    "conteo_pet = respondieron.groupby(['AÑO', 'PET']).size().reset_index(name='cantidad') ### Acá puede que te pueda salir error, no debería porque es la misma base/definición que venimos usando\n",
    "\n",
    "# Gráfico de barras para PET\n",
    "plt.figure(figsize=(12, 10)) ### Le podés bajar o subir el size si querés\n",
    "sns.barplot(data=conteo_pet, x='AÑO', y='cantidad', hue='PET', palette='pastel')\n",
    "plt.title('Composición de la Población en Edad para Trabajar')\n",
    "plt.xlabel('Año')\n",
    "plt.ylabel('Cantidad de personas')\n",
    "plt.legend(title='PET', labels=['No PET (0)', 'PET (1)'])\n",
    "plt.tight_layout()\n",
    "plt.show()\n",
    "\n",
    "\n",
    "# Agrupamos por año, PET y PEA\n",
    "comparacion = respondieron.groupby(['AÑO', 'PET', 'PEA']).size().reset_index(name='cantidad') ### Acá puede que te pueda salir error, no debería porque es la misma base/definición que venimos usando\n",
    "\n",
    "# Gráfico de barras apiladas para ver cómo se relacionan PET y PEA\n",
    "plt.figure(figsize=(12, 10)) ### Le podés bajar o subir el size si querés\n",
    "sns.catplot(data=comparacion, x='AÑO', y='cantidad', hue='PEA', col='PET', kind='bar', palette='Set2', height=5, aspect=0.9)\n",
    "plt.subplots_adjust(top=0.8)\n",
    "plt.suptitle('Relación entre PET y PEA por año')\n",
    "plt.show()"
   ]
  },
  {
   "cell_type": "code",
   "execution_count": null,
   "id": "71a78df8-02e7-4851-a080-8a38926afaf1",
   "metadata": {},
   "outputs": [],
   "source": []
  }
 ],
 "metadata": {
  "kernelspec": {
   "display_name": "Python [conda env:base] *",
   "language": "python",
   "name": "conda-base-py"
  },
  "language_info": {
   "codemirror_mode": {
    "name": "ipython",
    "version": 3
   },
   "file_extension": ".py",
   "mimetype": "text/x-python",
   "name": "python",
   "nbconvert_exporter": "python",
   "pygments_lexer": "ipython3",
   "version": "3.12.7"
  }
 },
 "nbformat": 4,
 "nbformat_minor": 5
}
