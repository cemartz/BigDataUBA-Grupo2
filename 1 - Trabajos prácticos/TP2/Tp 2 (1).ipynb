{
 "cells": [
  {
   "cell_type": "markdown",
   "id": "b0498abe-30a9-4b5b-9836-15e817e3e762",
   "metadata": {},
   "source": [
    "<center><h1>Trabajo Practico N*2</h1></center> \n"
   ]
  },
  {
   "cell_type": "markdown",
   "id": "c435307e-f823-4c2d-9ee9-6659c2bf41ed",
   "metadata": {},
   "source": [
    "<center><h1>Un Primer Encuentro con la EPH</h1></center>"
   ]
  },
  {
   "cell_type": "markdown",
   "id": "a83b7d41-2318-4742-b2e9-2083a31853e4",
   "metadata": {},
   "source": [
    "### Fecha de entrega: Abril 22 de marzo a las 13:00 hs.\n",
    "Contenido: familiarización con la base de datos de la Encuesta\n",
    "Permanente de Hogares. Limpieza de datos, valores faltantes y\n",
    "análisis descriptivo.\n"
   ]
  },
  {
   "cell_type": "markdown",
   "id": "9f878773-50d3-4456-ba4d-b11cdba75f39",
   "metadata": {},
   "source": [
    "## Modalidad de entrega\n",
    "● Asegurense de haber creado una carpeta llamada TP2 en el repositorio\n",
    "de GitHub de cada grupo.\n",
    "\n",
    "● El informe debe subirse a dicha carpeta en repositorio del grupo en\n",
    "formato PDF con el nombre Big_Data_TP2_Grupo#.pdf (donde # es\n",
    "el número de grupo), incluyendo gráficos e imágenes dentro del mismo\n",
    "archivo. La extensión máxima es de 8 páginas (sin apéndices) y se\n",
    "espera una redacción clara y precisa.\n",
    "\n",
    "● Se debe publicar el código con los comandos utilizados, indicando\n",
    "claramente a qué inciso corresponde cada uno. El nombre del archivo\n",
    "deberá ser Big_Data_TP2_Grupo#.\n",
    "o Al finalizar el trabajo práctico deben hacer un último commit en\n",
    "su repositorio de GitHub llamado “Entrega final del tp”.\n",
    "o El Jupyter Notebook y el correspondiente al TP2 deben estar\n",
    "dentro de esa carpeta.\n",
    "o La última versión en el repositorio es la que será evaluada. Por\n",
    "lo que es importante que:\n",
    "\n",
    "▪ No envien el correo hasta no haber terminado y estar\n",
    "seguros de que han hecho el commit y push a la versión\n",
    "final que quieren entregar.\n",
    "\n",
    "▪ No hagan nuevos push despues de haber entregado su\n",
    "versión final. Esto generaría confusión acerca de que\n",
    "versión es la que quieren que se les corrija.\n",
    "\n",
    "● También deben enviar el link de su repositorio -para que pueda ser\n",
    "clonado y corregido- a mi correo\n",
    "25RO35480961@campus.economicas.uba.ar . Usar de asunto de email \"Big Data - TP 2 - Grupo #\" donde # es el número de grupo que le fue\n",
    "asignado.\n",
    "\n",
    "● En resumen, la carpeta del repositorio debe incluir:\n",
    "o El codigo\n",
    "o Un documento Word (Parte A) donde esten las figuras y una\n",
    "breve descripción de las mismas.\n",
    "\n",
    "● Cualquier detección de copia o plagio será sancionada."
   ]
  },
  {
   "cell_type": "markdown",
   "id": "67294821-e67b-4663-aba9-ca59a16b840b",
   "metadata": {},
   "source": [
    "### Parte I: Familiarizandonos con la base EPH y limpieza\n",
    "La Encuesta Permanente de Hogares (EPH) es un programa nacional de\n",
    "producción sistemática y permanente de indicadores sociales que lleva a cabo\n",
    "el Instituto Nacional de Estadística y Censos (INDEC), que permite conocer\n",
    "las características sociodemográficas y socioeconómicas de la población. Uno\n",
    "de los indicadores más valiosos sobre el mercado laboral que pueden\n",
    "obtenerse con los datos de esta encuesta es la tasa de desocupación.\n",
    "\n",
    "#### 1. Utilizando información disponible en la página del INDEC, expliquen\n",
    "brevemente cómo se identifica a las personas desocupadas.\n",
    "\n",
    "#### 2. Entren a la página https://www.indec.gob.ar/ y vayan a la sección\n",
    "Servicios y Herramientas  Bases de datos. Descarguen la base de\n",
    "microdatos de la Encuesta Permanente de Hogares (EPH)\n",
    "correspondiente al primer trimestre de 2004 y 2024 en formato .dta y\n",
    ".xls, respectivamente (una vez descargadas, las bases a usar deberán\n",
    "llamarse usu_individual_T104.dta y\n",
    "usu_individual_T124.xls). En la página web, también encontrará\n",
    "un diccionario de variables con el nombre de “Diseño de registro y\n",
    "estructura para las bases preliminares (hogares y personas)”.\n",
    "Descarguen el diccionario de cada año. En estos archivos se les indica\n",
    "qué significa cada variable que aparece en la base de datos, en\n",
    "particular, en la sección de Diseño de registros de la base Personas.\n",
    "\n",
    "a. A partir de ahora, cada grupo debe decidir trabajar con una\n",
    "región del país en específico (ver variable REGION). Eliminen los\n",
    "datos de todas aquellas regiones que no se encuentren dentro de\n",
    "su región y unan ambos trimestres (2004 y 2024) en una sola\n",
    "base.1\n",
    "\n",
    "b. Asegúrense de que todas las variables tengan el formato\n",
    "correcto. Selecciones 15 variables de interés y reporten la\n",
    "cantidad de valores faltantes (NA, o NaN en Python) en una\n",
    "tabla por cada año. Comenten qué variables de las 15 que\n",
    "seleccionarion tienen más valores faltantes y qué año.\n",
    "\n",
    "c. Si notan valores sin sentido (como ingresos negativos) corriganla\n",
    "de acuerdo a la documentación de la EPH (puede ser una\n",
    "codificación de no respuesta de los individuos) y eliminen estos\n",
    "valores extraños de sus 15 variables de interes. Comenten\n",
    "brevemente en el reporte dicho proceso de limpieza.\n"
   ]
  },
  {
   "cell_type": "markdown",
   "id": "21a8881a-40c0-4471-9ac9-9b6d6721bc26",
   "metadata": {},
   "source": [
    "### Parte II: Primer Análisis Exploratorio\n",
    "#### 3. Realicen un gráfico de barras mostrando la composición por sexo para\n",
    "2004 y 2024. Comenten los resultados.\n",
    "\n",
    "#### 4. Realicen una matriz de correlación para 2004 y 2024 con las siguientes\n",
    "variables: CH04, CH06, CH07, CH08, NIVEL ED, ESTADO,\n",
    "CAT_INAC, IPCF. Utilicen alguno de los comandos disponibles en este\n",
    "link o este link para graficar la matriz de correlación. Comenten los\n",
    "resultados. \n",
    "\n",
    "Para todos los gráficos que presenten, recuerde tener presentes los tres principios de\n",
    "visualización de datos discutidos en la Clase 1. Referencia: † Schwabish, J. A. (2014). An\n",
    "economist's guide to visualizing data. Journal of Economic Perspectives, 28(1), 209-234."
   ]
  },
  {
   "cell_type": "markdown",
   "id": "838e1544-0efa-4300-ad6f-b1904361fed3",
   "metadata": {},
   "source": [
    "### Parte III: Conociendo a los ocupados y desocupados\n",
    "Los siguientes incisos apuntan a ver los resultados para su región\n",
    "seleccionada y comparando 2004 con 2024.\n",
    "#### 5. ¿Cuántos desocupados hay en la muestra? ¿Cuántos inactivos? ¿Cuál\n",
    "es la media de ingreso per cápita familiar (IPCF) según estado\n",
    "(ocupado, desocupado, inactivo)?\n",
    "\n",
    "#### 6. Uno de los grandes problemas de la EPH es la creciente cantidad de\n",
    "hogares que no reportan sus ingresos (ver por ejemplo el siguiente\n",
    "informe). ¿Cuántas personas no respondieron cuál es su condición de\n",
    "actividad? Guarden como una base distinta llamada respondieron\n",
    "las observaciones donde respondieron la pregunta sobre su condición\n",
    "de actividad (ESTADO). Las observaciones con ESTADO=0 guárdenlas en\n",
    "una base bajo el nombre norespondieron.\n",
    "\n",
    "#### 7. Agreguen a la base respondieron una columna llamada “PEA”\n",
    "(Población Económicamente Activa) que tome 1 si están ocupados o\n",
    "desocupados en ESTADO. Realicen un gráfico de barras mostrando la\n",
    "composición por PEA para 2004 y 2024. Comenten los resultados.\n",
    "\n",
    "#### 8. Agreguen a la base respondieron una columna llamada “PET”\n",
    "(Población en Edad para Trabajar) que tome 1 si están la persona tiene\n",
    "entre 15 y 65 años cumplidos. Realicen un gráfico de barras mostrando\n",
    "la composición por PEA para 2004 y 2024. Comenten los resultados y\n",
    "comparen PET con PEA.\n",
    "\n",
    "#### 9. Agreguen a la base respondieron una columna llamada “desocupado”\n",
    "que tome 1 si la persona está desocupada. ¿Cuántas personas están\n",
    "desocupadas en 2004 vs 2024? "
   ]
  },
  {
   "cell_type": "code",
   "execution_count": null,
   "id": "d6b14c07-27ec-409b-b3a9-a54565bf1c47",
   "metadata": {},
   "outputs": [],
   "source": []
  }
 ],
 "metadata": {
  "kernelspec": {
   "display_name": "Python [conda env:base] *",
   "language": "python",
   "name": "conda-base-py"
  },
  "language_info": {
   "codemirror_mode": {
    "name": "ipython",
    "version": 3
   },
   "file_extension": ".py",
   "mimetype": "text/x-python",
   "name": "python",
   "nbconvert_exporter": "python",
   "pygments_lexer": "ipython3",
   "version": "3.12.7"
  }
 },
 "nbformat": 4,
 "nbformat_minor": 5
}
